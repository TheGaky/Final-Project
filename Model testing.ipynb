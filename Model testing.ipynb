{
 "cells": [
  {
   "cell_type": "code",
   "execution_count": null,
   "id": "9281147a",
   "metadata": {},
   "outputs": [],
   "source": [
    "image = cv2.imread(\"/Users/gaky/Desktop/efir/photo/M0006/sort/fa31f05b-88dc-43e6-a70e-a8043ddf2807.jpg\")\n",
    "\n",
    "down_width = 400\n",
    "down_height = 220\n",
    "down_points = (down_width, down_height)\n",
    "resized_down = cv2.resize(image, down_points, interpolation= cv2.INTER_LINEAR)\n",
    "resized_down = cv2.cvtColor(resized_down, cv2.COLOR_BGR2RGB)\n",
    " \n",
    "# let's upscale the image using new "
   ]
  },
  {
   "cell_type": "code",
   "execution_count": null,
   "id": "ea8f6405",
   "metadata": {},
   "outputs": [],
   "source": [
    "import os\n",
    "import cv2\n",
    "\n",
    "\n",
    "def test_shit(folder):\n",
    "    sick = []\n",
    "    images = os.listdir(folder)\n",
    "    for i in images:\n",
    "        if i == \".DS_Store\":\n",
    "            images.remove(i)\n",
    "    \n",
    "    for i in images:\n",
    "        image = cv2.imread(folder+\"/\"+i)\n",
    "\n",
    "        down_width = 400\n",
    "        down_height = 220\n",
    "        down_points = (down_width, down_height)\n",
    "        resized_down = cv2.resize(image, down_points, interpolation= cv2.INTER_LINEAR)\n",
    "        resized_down = cv2.cvtColor(resized_down, cv2.COLOR_BGR2RGB)\n",
    "        \n",
    "        im = np.array(resized_down)\n",
    "        im_clone = im\n",
    "        im = np.transpose(im, (2, 0, 1))\n",
    "        im = torch.tensor(im)\n",
    "        im = im/255.\n",
    "        \n",
    "        with torch.no_grad():\n",
    "            model.eval()\n",
    "            out = model(im.float().unsqueeze(0))\n",
    "            out = torch.argmax(out, dim=1)\n",
    "            #print(out)\n",
    "            #print(im.shape)\n",
    "            if out == 0:\n",
    "                sick.append(folder+\"/\"+i)\n",
    "                #print(folder+\"/\"+i)\n",
    "    return sick"
   ]
  }
 ],
 "metadata": {
  "kernelspec": {
   "display_name": "Python 3 (ipykernel)",
   "language": "python",
   "name": "python3"
  },
  "language_info": {
   "codemirror_mode": {
    "name": "ipython",
    "version": 3
   },
   "file_extension": ".py",
   "mimetype": "text/x-python",
   "name": "python",
   "nbconvert_exporter": "python",
   "pygments_lexer": "ipython3",
   "version": "3.9.13"
  }
 },
 "nbformat": 4,
 "nbformat_minor": 5
}
