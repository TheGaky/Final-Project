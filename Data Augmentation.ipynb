{
 "cells": [
  {
   "cell_type": "code",
   "execution_count": 17,
   "id": "60014846",
   "metadata": {},
   "outputs": [],
   "source": [
    "from PIL import Image, ImageFilter\n",
    "import cv2"
   ]
  },
  {
   "cell_type": "code",
   "execution_count": 18,
   "id": "5a0b44aa",
   "metadata": {},
   "outputs": [],
   "source": [
    "def change_brightness(image, factor):\n",
    "    from PIL import Image, ImageEnhance\n",
    "    \n",
    "    im = Image.open(image)\n",
    "    img_enhancer = ImageEnhance.Brightness(im)\n",
    "    im = img_enhancer.enhance(factor)\n",
    "    return im "
   ]
  },
  {
   "cell_type": "code",
   "execution_count": 19,
   "id": "d9f4c8ab",
   "metadata": {},
   "outputs": [],
   "source": [
    "def change_contrast(image, factor):\n",
    "    from PIL import Image, ImageEnhance\n",
    "    \n",
    "    img_enhancer = ImageEnhance.Contrast(image)\n",
    "    im = img_enhancer.enhance(factor)\n",
    "    return im "
   ]
  },
  {
   "cell_type": "code",
   "execution_count": 20,
   "id": "7aeb798e",
   "metadata": {},
   "outputs": [],
   "source": [
    "def blur(image, radius):\n",
    "    from PIL import Image, ImageFilter \n",
    "    im = Image.open(image)\n",
    "    \n",
    "    im = im.filter(ImageFilter.GaussianBlur(radius = radius))\n",
    "    return im "
   ]
  },
  {
   "cell_type": "code",
   "execution_count": 22,
   "id": "cbf28c76",
   "metadata": {},
   "outputs": [],
   "source": [
    "import os\n",
    "folder = \"/Users/gaky/Desktop/efir/off for use/off mix\"\n",
    "images = os.listdir(folder)\n",
    "\n",
    "for i in images:\n",
    "    if i == \".DS_Store\":\n",
    "        images.remove(i)\n",
    "\n",
    "for i in range(len(images)):\n",
    "    \n",
    "    #ima = change_brightness(folder+\"/\"+images[i], 1.5)\n",
    "    #ima = change_contrast(ima, 0.7)\n",
    "    ima = blur(folder+\"/\"+images[i], 5)\n",
    "    ima.save(\"/Users/gaky/Desktop/efir/off for use/off blur\"+\"/\"+ str(i) +\".jpg\")"
   ]
  },
  {
   "cell_type": "code",
   "execution_count": null,
   "id": "3a4232f1",
   "metadata": {},
   "outputs": [],
   "source": []
  },
  {
   "cell_type": "code",
   "execution_count": null,
   "id": "f64936a4",
   "metadata": {},
   "outputs": [],
   "source": []
  }
 ],
 "metadata": {
  "kernelspec": {
   "display_name": "Python 3 (ipykernel)",
   "language": "python",
   "name": "python3"
  },
  "language_info": {
   "codemirror_mode": {
    "name": "ipython",
    "version": 3
   },
   "file_extension": ".py",
   "mimetype": "text/x-python",
   "name": "python",
   "nbconvert_exporter": "python",
   "pygments_lexer": "ipython3",
   "version": "3.9.13"
  }
 },
 "nbformat": 4,
 "nbformat_minor": 5
}
